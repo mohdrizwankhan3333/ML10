{
 "cells": [
  {
   "cell_type": "code",
   "execution_count": null,
   "id": "b6c4bd5e-ea25-42eb-9eb3-546fd7612bdc",
   "metadata": {},
   "outputs": [],
   "source": [
    "Q1. Lasso Regression is a linear regression technique that adds a penalty term to the cost function to reduce overfitting, differing from others by setting some coefficients to zero.\n",
    "\n",
    "Q2. The main advantage of Lasso Regression in feature selection is its ability to eliminate irrelevant features by setting their coefficients to zero, resulting in a more parsimonious model.\n",
    "\n",
    "Q3. The coefficients of a Lasso Regression model represent the change in the dependent variable for a one-unit change in the independent variable, with coefficients set to zero indicating feature elimination.\n",
    "\n",
    "Q4. The tuning parameter in Lasso Regression is the regularization parameter (lambda), which controls the strength of regularization, with higher values resulting in more feature elimination and lower values resulting in less regularization.\n",
    "\n",
    "Q5. Yes, Lasso Regression can be used for non-linear regression problems by using non-linear features, such as polynomial or interaction terms, or by using non-linear models like the generalized linear model.\n",
    "\n",
    "Q6. The main difference between Ridge Regression and Lasso Regression is that Ridge Regression shrinks coefficients towards zero, while Lasso Regression sets some coefficients to zero, resulting in feature elimination.\n",
    "\n",
    "Q7. Yes, Lasso Regression can handle multicollinearity by eliminating one of the correlated features, reducing the dimensionality of the data and improving model interpretability.\n",
    "\n",
    "Q8. The optimal value of the regularization parameter (lambda) in Lasso Regression can be chosen using cross-validation, grid search, or Bayesian optimization to find the value that results in the best model performance."
   ]
  }
 ],
 "metadata": {
  "kernelspec": {
   "display_name": "Python 3 (ipykernel)",
   "language": "python",
   "name": "python3"
  },
  "language_info": {
   "codemirror_mode": {
    "name": "ipython",
    "version": 3
   },
   "file_extension": ".py",
   "mimetype": "text/x-python",
   "name": "python",
   "nbconvert_exporter": "python",
   "pygments_lexer": "ipython3",
   "version": "3.10.8"
  }
 },
 "nbformat": 4,
 "nbformat_minor": 5
}
